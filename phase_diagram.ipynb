{
 "cells": [
  {
   "cell_type": "markdown",
   "id": "e02a02b6-2893-4f70-bb74-48f2ed66669b",
   "metadata": {},
   "source": [
    "# This notebook is made to visualize differential equations\n",
    "---"
   ]
  },
  {
   "cell_type": "markdown",
   "id": "0ed19b2b-f802-43bf-bc9c-7e4ab14d5cdc",
   "metadata": {},
   "source": [
    "## In particular we will focus on second order differential equations\n",
    "\n",
    "##### Our differential equation can be written as follows:\n",
    "> With _a_ and _b_ as parameters\n",
    "\n",
    "$$\n",
    "\\begin{cases}\n",
    "    \\dot{x} = x(3 - ax - by) \\\\\n",
    "    \\dot{y} = y(2 - x - y)\n",
    "\\end{cases}\n",
    "$$\n",
    "\n",
    "---\n",
    "\n",
    "### The analysis will be done in the following points:\n",
    "\n",
    "1. [Visualizing the vecotor field](#Visualizing_the_vecotor_field)\n",
    "2. [Simulating the trajectories](#Simulating_the_trajectories)\n",
    "3. [Analyzing non-linear parts of the manifold](#Analyzing_non-linear_parts_of_the_manifold)\n",
    "\n",
    "---\n",
    "\n",
    "The differential equation rappresents two populations, one of rabbits and on of sheeps ...."
   ]
  },
  {
   "cell_type": "markdown",
   "id": "50e1ee35-8072-49ef-8232-7136840c3255",
   "metadata": {},
   "source": [
    "# Visualizing the vecotor field"
   ]
  },
  {
   "cell_type": "markdown",
   "id": "1690c031-de82-472e-8e2f-79fc5e711fb3",
   "metadata": {},
   "source": [
    "### Reqiurements installation in quiet mode"
   ]
  },
  {
   "cell_type": "code",
   "execution_count": null,
   "id": "73971e35-d9ad-43b9-b7f7-16625736f95c",
   "metadata": {
    "tags": []
   },
   "outputs": [],
   "source": [
    "%pip -q install numpy\n",
    "%pip -q install matplotlib\n",
    "%pip -q install ipympl"
   ]
  },
  {
   "cell_type": "markdown",
   "id": "2ae1097b-1c6f-45ad-a365-b72a284dbaec",
   "metadata": {},
   "source": [
    "#### Imoprt necessary libraires\n",
    "> You need to install:`\n",
    "\n",
    "---\n",
    "\n",
    "- `jupyter labextension install @jupyter-widgets/jupyterlab-manager` \n",
    "- `jupyter labextension install jupyter-matplotlib`\n",
    "> This will allow you to use the widget and change the parameters real time"
   ]
  },
  {
   "cell_type": "code",
   "execution_count": null,
   "id": "54d0b2c6-b53a-400b-8466-df35cbff85ad",
   "metadata": {
    "tags": []
   },
   "outputs": [],
   "source": [
    "import numpy as np\n",
    "import matplotlib.pyplot as plt"
   ]
  },
  {
   "cell_type": "markdown",
   "id": "6c9121f1-dc55-46d5-8da0-f5dd68cd3154",
   "metadata": {},
   "source": [
    "#### Define the differential equation"
   ]
  },
  {
   "cell_type": "code",
   "execution_count": null,
   "id": "ac518d5a-73f4-4374-ad00-662ff7c63aca",
   "metadata": {
    "tags": []
   },
   "outputs": [],
   "source": [
    "def eq_diff(x,y,a,b):\n",
    "    u = x * (3 - a * x - b * y)\n",
    "    v = y * (2 - x - y)\n",
    "    return (u,v)"
   ]
  },
  {
   "cell_type": "code",
   "execution_count": null,
   "id": "cc1baf9c-4b9c-4a41-9764-934bb5ed5762",
   "metadata": {
    "tags": []
   },
   "outputs": [],
   "source": [
    "import numpy as np\n",
    "import matplotlib.pyplot as plt\n",
    "from ipywidgets import *\n",
    "\n",
    "# Set the DPI of the figure\n",
    "plt.rcParams['figure.dpi'] = 150\n",
    "\n",
    "def update_plot(a=1, b=1, size=0.1, colormap='viridis'):\n",
    "    # Generate some random data\n",
    "    x, y = np.meshgrid(np.arange(0, 3.5, size), np.arange(0, 2.5, size))\n",
    "    u = x * (3 - a * x - b * y)\n",
    "    v = y * (2 - x - y)\n",
    "\n",
    "    # Calculate the magnitude of each vector and clip it so that we can get better coloring\n",
    "    mag = np.clip(np.sqrt(u**2 + v**2), -10, 2)\n",
    "\n",
    "    # Normalize the vectors\n",
    "    norm = np.sqrt(u**2 + v**2)\n",
    "\n",
    "    u = u/norm\n",
    "    v = v/norm\n",
    "\n",
    "    # Create the plot\n",
    "    fig, ax = plt.subplots()\n",
    "\n",
    "    # Set the colormap to 'cool'\n",
    "    q = ax.quiver(x, y, u, v, mag, cmap=colormap)\n",
    "\n",
    "    # Set the colorbar limits to the range of the magnitudes\n",
    "    q.set_clim([mag.min(), mag.max()])\n",
    "\n",
    "    # Set the colorbar ticks and labels\n",
    "    cbar = plt.colorbar(q)\n",
    "    cbar.set_ticks([mag.min(),(mag.min() + mag.max())/ 2, mag.max()])\n",
    "    cbar.set_ticklabels(['Low', 'Medium', 'High'])\n",
    "    \n",
    "    plt.show()"
   ]
  },
  {
   "cell_type": "code",
   "execution_count": null,
   "id": "be2bafbe-0f48-4990-9c3f-a14f933e35d4",
   "metadata": {},
   "outputs": [],
   "source": [
    "a_slider = FloatSlider(min=0, max=5, step=0.25, value=1, description='a')\n",
    "b_slider = FloatSlider(min=0, max=5, step=0.25, value=1, description='b')\n",
    "size_slider = FloatSlider(min=0.05, max=0.2, step=0.05, value=0.1, description='size')\n",
    "colormap_dropdown = Dropdown(options=['viridis', 'plasma', 'magma', 'Spectral_r'], value='viridis', description='colormap')\n",
    "\n",
    "# Create the interactive plot\n",
    "interactive(update_plot, a=a_slider, b=b_slider, size=size_slider, colormap=colormap_dropdown)"
   ]
  },
  {
   "cell_type": "markdown",
   "id": "c9381284-bfd5-45a8-b70e-29a27e832467",
   "metadata": {
    "tags": []
   },
   "source": [
    "#### Function to create plots"
   ]
  },
  {
   "cell_type": "code",
   "execution_count": null,
   "id": "af547854-b46e-43a0-b02b-5874c19f4508",
   "metadata": {
    "tags": []
   },
   "outputs": [],
   "source": [
    "def create_phase_diagrams(a_vals, b_vals, axs = None):    \n",
    "    # Iterate over the subplots and plot a graph in each one\n",
    "    for i, ax in enumerate(axs.flat):\n",
    "        # Set the values of a and b based on the index i\n",
    "        a = a_vals[i]\n",
    "        b = b_vals[i]\n",
    "\n",
    "        # Generate the data for the graph\n",
    "        x, y = np.meshgrid(np.arange(0, 3.5, 0.1), np.arange(0, 2.5, 0.1))\n",
    "        \n",
    "        # unpack the return value\n",
    "        u,v = eq_diff(x,y,a,b)\n",
    "        \n",
    "        # Calculate the magnitude and normalize the vectors\n",
    "        mag = np.clip(np.sqrt(u**2 + v**2), -10, 2)\n",
    "        norm = np.sqrt(u**2 + v**2)\n",
    "        u = np.divide(u, norm, out=np.zeros_like(u), where=norm!=0)\n",
    "        v = np.divide(v, norm, out=np.zeros_like(v), where=norm!=0)\n",
    "            \n",
    "        # Plot the graph using quiver plot\n",
    "        q = ax.quiver(x, y, u, v, mag, cmap='Spectral_r')\n",
    "        q.set_clim([mag.min(), mag.max()])\n",
    "        \n",
    "        # Add a colorbar to the graph\n",
    "        cbar = plt.colorbar(q, ax=ax)\n",
    "        cbar.set_ticks([mag.min(),(mag.min() + mag.max())/ 2, mag.max()])\n",
    "        cbar.set_ticklabels(['Low', 'Medium', 'High'])\n",
    "        \n",
    "        # Add a title to the subplot\n",
    "        ax.set_title(f'Graph values: a={a}, b={b}')"
   ]
  },
  {
   "cell_type": "code",
   "execution_count": null,
   "id": "3d1089c0-de09-4fcd-9ee2-d929ff4b559b",
   "metadata": {
    "tags": []
   },
   "outputs": [],
   "source": [
    "# Visualize the graph and be able to do things like zoom etc...\n",
    "%matplotlib widget\n",
    "\n",
    "# Set the DPI of the figure\n",
    "plt.rcParams['figure.dpi'] = 300\n",
    "# Set the font size of the labels and title\n",
    "plt.rcParams['font.size'] = 5\n",
    "\n",
    "# Create a 2x2 grid of subplots\n",
    "fig, axs = plt.subplots(2, 2)\n",
    "\n",
    "a_vals = [1, 2, 1, 3]\n",
    "b_vals = [2, 1, 3, 1]\n",
    "\n",
    "create_phase_diagrams(a_vals,b_vals,axs)\n",
    "\n",
    "# Display the plot\n",
    "plt.show()"
   ]
  },
  {
   "cell_type": "markdown",
   "id": "a8d4fa5f-eedb-4e43-a971-9be5835852de",
   "metadata": {},
   "source": [
    "# Simulating the trajectories"
   ]
  },
  {
   "cell_type": "markdown",
   "id": "47427c17-1e11-4d1b-ba2d-ed2ed0939036",
   "metadata": {},
   "source": [
    "### Lets remember this is our system:\n",
    "\n",
    "##### Our differential equation can be written as follows:\n",
    "> With _a_ and _b_ as parameters\n",
    "\n",
    "$$\n",
    "\\begin{cases}\n",
    "    \\dot{x} = x(3 - ax - by) \\\\\n",
    "    \\dot{y} = y(2 - x - y)\n",
    "\\end{cases}\n",
    "$$\n"
   ]
  },
  {
   "cell_type": "markdown",
   "id": "f6a59688-52fc-4197-b97f-2d96d4f15f94",
   "metadata": {},
   "source": [
    "##### Install numba as a requirement to run the jit"
   ]
  },
  {
   "cell_type": "code",
   "execution_count": null,
   "id": "e59c6947-f00c-4786-9b45-8a1963443c5d",
   "metadata": {},
   "outputs": [],
   "source": [
    "%pip -q install numba"
   ]
  },
  {
   "cell_type": "markdown",
   "id": "3f3f9d71-f065-4119-a1b5-9bb18cf4ef3a",
   "metadata": {},
   "source": [
    "#### Import necessary libraries and define the function"
   ]
  },
  {
   "cell_type": "code",
   "execution_count": null,
   "id": "382b41cb-3727-434c-a1d5-5f7ce4bfb91c",
   "metadata": {},
   "outputs": [],
   "source": [
    "from numba import njit, float64, int32\n",
    "import numpy as np\n",
    "\n",
    "# import it from the library directory\n",
    "from library.eqdiff_solver import *\n",
    "\n",
    "# remeber that x can be multi dimensional so the function is general to n dimensino\n",
    "@njit(cache=True)\n",
    "def f(x) -> np.ndarray[float64]:\n",
    "\n",
    "    # Define the value for a and b\n",
    "    a = 1.0\n",
    "    b = 2.0\n",
    "\n",
    "    # Define the equations\n",
    "    u = x[0] * (3 - a * x[0] - b * x[1])\n",
    "    v = x[1] * (2 - x[0] - x[1])\n",
    "    return np.array([u, v])"
   ]
  },
  {
   "cell_type": "markdown",
   "id": "15c92f07-fea5-4c56-b06a-89d15bab5acf",
   "metadata": {},
   "source": [
    "### Try out the function "
   ]
  },
  {
   "cell_type": "code",
   "execution_count": null,
   "id": "01d565ab-55fa-4082-b550-41423fac5bd5",
   "metadata": {},
   "outputs": [],
   "source": [
    "# Initialize an array for the initial contions\n",
    "x0 = np.array([0.01, 0.01])\n",
    "# Delta time\n",
    "dt = 0.5\n",
    "# Final time\n",
    "final_time = 10\n",
    "\n",
    "# The number of step is automatically computed the function is also inside eqdiff_solver\n",
    "x = plot_solution(f, x0, dt=dt, final_time=final_time, rk_only= False)"
   ]
  },
  {
   "cell_type": "markdown",
   "id": "249693fb-c356-442a-82e2-d0d309f26c0d",
   "metadata": {
    "tags": []
   },
   "source": [
    "## Analyzing non-linear parts of the manifold"
   ]
  },
  {
   "cell_type": "code",
   "execution_count": null,
   "id": "08d7b9bd-6b29-4233-82c8-e789983815d5",
   "metadata": {},
   "outputs": [],
   "source": [
    "# Delta time\n",
    "dt = 0.001\n",
    "\n",
    "# Final time\n",
    "final_time = 10\n",
    "\n",
    "# The number of step is automatically computed the function is also inside eqdiff_solver\n",
    "plot_phase_diagram_solutions(f, dt=dt, final_time=final_time, num=25)\n",
    "\n",
    "# Close all open figures\n",
    "plt.close('all')"
   ]
  },
  {
   "cell_type": "markdown",
   "id": "df1b7724-6b54-4bc4-ba82-cdc30fabd50c",
   "metadata": {},
   "source": [
    "### Testing"
   ]
  },
  {
   "cell_type": "code",
   "execution_count": null,
   "id": "da7de81a-717e-4a32-8e1c-ada7d9deccc3",
   "metadata": {},
   "outputs": [],
   "source": [
    "%matplotlib widget\n",
    "\n",
    "# Create sliders for dt, final_time, and num\n",
    "dt_slider = FloatSlider(min=0.01, max=1, step=0.01, value=0.1, description=\"dt\")\n",
    "final_time_slider = FloatSlider(min=0.1, max=10, step=0.1, value=1, description=\"Final Time\")\n",
    "num_slider = IntSlider(min=1, max=50, step=1, value=20, description=\"Num\")\n",
    "\n",
    "# Use interact to create an interactive plot with the sliders\n",
    "interact(plot_phase_diagram_solutions, f=f, dt=dt_slider, final_time=final_time_slider, num=num_slider)"
   ]
  }
 ],
 "metadata": {
  "kernelspec": {
   "display_name": "Python 3 (ipykernel)",
   "language": "python",
   "name": "python3"
  },
  "language_info": {
   "codemirror_mode": {
    "name": "ipython",
    "version": 3
   },
   "file_extension": ".py",
   "mimetype": "text/x-python",
   "name": "python",
   "nbconvert_exporter": "python",
   "pygments_lexer": "ipython3",
   "version": "3.11.3"
  }
 },
 "nbformat": 4,
 "nbformat_minor": 5
}
