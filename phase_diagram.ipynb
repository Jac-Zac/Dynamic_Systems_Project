{
 "cells": [
  {
   "cell_type": "markdown",
   "id": "e02a02b6-2893-4f70-bb74-48f2ed66669b",
   "metadata": {},
   "source": [
    "# This notebook is made to visualize differential equations\n",
    "---"
   ]
  },
  {
   "cell_type": "markdown",
   "id": "0ed19b2b-f802-43bf-bc9c-7e4ab14d5cdc",
   "metadata": {},
   "source": [
    "## In particular we will focus on second order differential equations\n",
    "\n",
    "##### Our differential equation can be written as follows:\n",
    "> With _a_ and _b_ as parameters\n",
    "\n",
    "$$\n",
    "\\begin{cases}\n",
    "    \\dot{x} = x(3 - ax - by) \\\\\n",
    "    \\dot{y} = y(2 - x - y)\n",
    "\\end{cases}\n",
    "$$\n",
    "\n",
    "---\n",
    "\n",
    "### The analysis will be done in the following points:\n",
    "\n",
    "1. [Visualizing the vecotor field](#Visualizing_the_vecotor_field)\n",
    "2. [Simulating the trajectories](#Simulating_the_trajectories)\n",
    "3. [Analyzing non-linear parts of the manifold](#Analyzing_non-linear_parts_of_the_manifold)\n",
    "\n",
    "---\n",
    "\n",
    "The differential equation rappresents two populations, one of rabbits and on of sheeps ...."
   ]
  },
  {
   "cell_type": "markdown",
   "id": "49fec34d-3d00-4c70-b029-a66737e5d2e3",
   "metadata": {},
   "source": [
    "### Discuss the isoclines and position of the vector based on what I wrote on my notes"
   ]
  },
  {
   "cell_type": "markdown",
   "id": "1690c031-de82-472e-8e2f-79fc5e711fb3",
   "metadata": {},
   "source": [
    "#### Reqiurements installation in quiet mode"
   ]
  },
  {
   "cell_type": "code",
   "execution_count": null,
   "id": "73971e35-d9ad-43b9-b7f7-16625736f95c",
   "metadata": {
    "tags": []
   },
   "outputs": [],
   "source": [
    "%pip -q install numpy\n",
    "%pip -q install matplotlib\n",
    "%pip -q install ipympl"
   ]
  },
  {
   "cell_type": "code",
   "execution_count": null,
   "id": "daeff3af-9109-4c42-b99e-3004880ca9d4",
   "metadata": {},
   "outputs": [],
   "source": [
    "import numpy as np\n",
    "import matplotlib.pyplot as plt\n",
    "from ipywidgets import *"
   ]
  },
  {
   "cell_type": "code",
   "execution_count": null,
   "id": "cafa6326-5a45-42fe-9c16-ea3bc38db652",
   "metadata": {},
   "outputs": [],
   "source": [
    "def eq_diff(x,y,a,b):\n",
    "    u = x * (3 - a * x - b * y)\n",
    "    v = y * (2 - x - y)\n",
    "    return (u,v)"
   ]
  },
  {
   "cell_type": "code",
   "execution_count": null,
   "id": "68284170-4dea-4626-9acb-12bce489d1b6",
   "metadata": {
    "scrolled": true
   },
   "outputs": [],
   "source": [
    "# Set the DPI of the figure\n",
    "plt.rcParams['figure.dpi'] = 300\n",
    "\n",
    "def update_plot(a=2, b=1, size=0.125):\n",
    "    # Generate some random data\n",
    "    x, y = np.meshgrid(np.arange(-0.5, 3, size), np.arange(-0.5, 3, size))\n",
    "    u, v = eq_diff(x,y,a,b)\n",
    "\n",
    "    # Calculate the magnitude of each vector and clip it so that we can get better coloring\n",
    "    mag = np.clip(np.sqrt(u**2 + v**2), -10, 2)\n",
    "\n",
    "    # Normalize the vectors\n",
    "    norm = np.sqrt(u**2 + v**2)\n",
    "    u = np.divide(u, norm, out=np.zeros_like(u), where=norm!=0)\n",
    "    v = np.divide(v, norm, out=np.zeros_like(v), where=norm!=0)\n",
    "\n",
    "    # Create the plot\n",
    "    fig, ax = plt.subplots()\n",
    "\n",
    "    # Add isoclines\n",
    "    x_isocline = np.linspace(-0.5, 3, 100)\n",
    "    y_isocline1 = 3 - 2 * x_isocline\n",
    "    y_isocline2 = 2 - x_isocline\n",
    "\n",
    "    ax.plot(x_isocline, y_isocline2, color='navy', linestyle='--', label='2 - x', linewidth=1)\n",
    "    ax.plot(x_isocline, y_isocline1, 'g--', label='3 - 2x', linewidth=1)\n",
    "    ax.axvline(x=0, color='g', linestyle='--', label='x = 0', linewidth=1)\n",
    "    ax.axhline(y=0, color='navy', linestyle='--', label='y = 0', linewidth=1)\n",
    "\n",
    "    # Add legend with smaller font size\n",
    "    ax.legend(fontsize='small', loc='upper right')\n",
    "\n",
    "    # Set axis limits\n",
    "    ax.set_xlim(-0.5, 3)\n",
    "    ax.set_ylim(-0.5, 3)\n",
    "\n",
    "    # Set the colormap to 'cool'\n",
    "    q = ax.quiver(x, y, u, v)\n",
    "\n",
    "    ax.axhline(0, color='black', linewidth=0.5)\n",
    "    ax.axvline(0, color='black', linewidth=0.5)\n",
    "\n",
    "    # Set the colorbar limits to the range of the magnitudes\n",
    "    q.set_clim([mag.min(), mag.max()])\n",
    "\n",
    "    plt.show()\n",
    "\n",
    "update_plot()"
   ]
  },
  {
   "cell_type": "markdown",
   "id": "50e1ee35-8072-49ef-8232-7136840c3255",
   "metadata": {},
   "source": [
    "### Visualizing the vecotor field"
   ]
  },
  {
   "cell_type": "code",
   "execution_count": null,
   "id": "cc1baf9c-4b9c-4a41-9764-934bb5ed5762",
   "metadata": {
    "tags": []
   },
   "outputs": [],
   "source": [
    "# Set the DPI of the figure\n",
    "plt.rcParams['figure.dpi'] = 300\n",
    "\n",
    "def update_plot(a=2, b=1, size=0.1):\n",
    "    # Generate some random data\n",
    "    x, y = np.meshgrid(np.arange(0, 3, size), np.arange(0, 3, size))\n",
    "    u, v = eq_diff(x,y,a,b)\n",
    "\n",
    "    # Calculate the magnitude of each vector and clip it so that we can get better coloring\n",
    "    mag = np.clip(np.sqrt(u**2 + v**2), -10, 2)\n",
    "\n",
    "    # Normalize the vectors\n",
    "    norm = np.sqrt(u**2 + v**2)\n",
    "    u = np.divide(u, norm, out=np.zeros_like(u), where=norm!=0)\n",
    "    v = np.divide(v, norm, out=np.zeros_like(v), where=norm!=0)\n",
    "\n",
    "    # Create the plot\n",
    "    fig, ax = plt.subplots()\n",
    "\n",
    "    # Set the colormap to 'cool'\n",
    "    q = ax.quiver(x, y, u, v, mag, cmap='viridis')\n",
    "\n",
    "    # Set the colorbar limits to the range of the magnitudes\n",
    "    q.set_clim([mag.min(), mag.max()])\n",
    "\n",
    "    # Set the colorbar ticks and labels\n",
    "    cbar = plt.colorbar(q)\n",
    "    cbar.set_ticks([mag.min(),(mag.min() + mag.max())/ 2, mag.max()])\n",
    "    cbar.set_ticklabels(['Low', 'Medium', 'High'])\n",
    "    \n",
    "    plt.show()"
   ]
  },
  {
   "cell_type": "code",
   "execution_count": null,
   "id": "be2bafbe-0f48-4990-9c3f-a14f933e35d4",
   "metadata": {
    "scrolled": true
   },
   "outputs": [],
   "source": [
    "a_slider = FloatSlider(min=0, max=5, step=0.25, value=2, description='a')\n",
    "b_slider = FloatSlider(min=0, max=5, step=0.25, value=1, description='b')\n",
    "size_slider = FloatSlider(min=0.05, max=0.2, step=0.05, value=0.1, description='size')\n",
    "\n",
    "# Create the interactive plot\n",
    "interactive(update_plot, a=a_slider, b=b_slider, size=size_slider)"
   ]
  },
  {
   "cell_type": "markdown",
   "id": "c9381284-bfd5-45a8-b70e-29a27e832467",
   "metadata": {
    "tags": []
   },
   "source": [
    "#### Multiple plots for different values of a and b"
   ]
  },
  {
   "cell_type": "code",
   "execution_count": null,
   "id": "af547854-b46e-43a0-b02b-5874c19f4508",
   "metadata": {
    "tags": []
   },
   "outputs": [],
   "source": [
    "def create_phase_diagrams(a_vals, b_vals, axs = None):    \n",
    "    # Iterate over the subplots and plot a graph in each one\n",
    "    for i, ax in enumerate(axs.flat):\n",
    "        # Set the values of a and b based on the index i\n",
    "        a = a_vals[i]\n",
    "        b = b_vals[i]\n",
    "\n",
    "        # Generate the data for the graph\n",
    "        x, y = np.meshgrid(np.arange(0, 3.5, 0.1), np.arange(0, 2.5, 0.1))\n",
    "        \n",
    "        # unpack the return value\n",
    "        u,v = eq_diff(x,y,a,b)\n",
    "        \n",
    "        # Calculate the magnitude and normalize the vectors\n",
    "        mag = np.clip(np.sqrt(u**2 + v**2), -10, 2)\n",
    "        norm = np.sqrt(u**2 + v**2)\n",
    "        u = np.divide(u, norm, out=np.zeros_like(u), where=norm!=0)\n",
    "        v = np.divide(v, norm, out=np.zeros_like(v), where=norm!=0)\n",
    "            \n",
    "        # Plot the graph using quiver plot\n",
    "        q = ax.quiver(x, y, u, v, mag, cmap='Spectral_r')\n",
    "        q.set_clim([mag.min(), mag.max()])\n",
    "        \n",
    "        # Add a colorbar to the graph\n",
    "        cbar = plt.colorbar(q, ax=ax)\n",
    "        cbar.set_ticks([mag.min(),(mag.min() + mag.max())/ 2, mag.max()])\n",
    "        cbar.set_ticklabels(['Low', 'Medium', 'High'])\n",
    "        \n",
    "        # Add a title to the subplot\n",
    "        ax.set_title(f'Graph values: a={a}, b={b}')"
   ]
  },
  {
   "cell_type": "code",
   "execution_count": null,
   "id": "3d1089c0-de09-4fcd-9ee2-d929ff4b559b",
   "metadata": {
    "tags": []
   },
   "outputs": [],
   "source": [
    "# Set the DPI of the figure\n",
    "plt.rcParams['figure.dpi'] = 300\n",
    "# Set the font size of the labels and title\n",
    "plt.rcParams['font.size'] = 5\n",
    "\n",
    "# Create a 2x2 grid of subplots\n",
    "fig, axs = plt.subplots(2, 2)\n",
    "\n",
    "a_vals = [1, 2, 1, 3]\n",
    "b_vals = [2, 1, 3, 1]\n",
    "\n",
    "create_phase_diagrams(a_vals,b_vals,axs)\n",
    "\n",
    "# Display the plot\n",
    "plt.show()"
   ]
  },
  {
   "cell_type": "markdown",
   "id": "a8d4fa5f-eedb-4e43-a971-9be5835852de",
   "metadata": {},
   "source": [
    "# Simulating the trajectories"
   ]
  },
  {
   "cell_type": "markdown",
   "id": "47427c17-1e11-4d1b-ba2d-ed2ed0939036",
   "metadata": {},
   "source": [
    "### Lets remember this is our system:\n",
    "\n",
    "##### Our differential equation can be written as follows:\n",
    "> With _a_ and _b_ as parameters\n",
    "\n",
    "$$\n",
    "\\begin{cases}\n",
    "    \\dot{x} = x(3 - ax - by) \\\\\n",
    "    \\dot{y} = y(2 - x - y)\n",
    "\\end{cases}\n",
    "$$\n"
   ]
  },
  {
   "cell_type": "markdown",
   "id": "f6a59688-52fc-4197-b97f-2d96d4f15f94",
   "metadata": {},
   "source": [
    "##### Install numba as a requirement to run the jit"
   ]
  },
  {
   "cell_type": "code",
   "execution_count": null,
   "id": "e59c6947-f00c-4786-9b45-8a1963443c5d",
   "metadata": {},
   "outputs": [],
   "source": [
    "%pip -q install numba"
   ]
  },
  {
   "cell_type": "markdown",
   "id": "3f3f9d71-f065-4119-a1b5-9bb18cf4ef3a",
   "metadata": {},
   "source": [
    "#### Import necessary libraries and define the function"
   ]
  },
  {
   "cell_type": "code",
   "execution_count": null,
   "id": "382b41cb-3727-434c-a1d5-5f7ce4bfb91c",
   "metadata": {},
   "outputs": [],
   "source": [
    "from numba import *\n",
    "import numpy as np\n",
    "\n",
    "# import it from the library directory\n",
    "from library.eqdiff_solver import *\n",
    "\n",
    "# remeber that x can be multi dimensional so the function is general to n dimensino\n",
    "@njit(cache=True)\n",
    "def f(x, a=2.0, b=1.0) -> np.ndarray[float64]:\n",
    "    # Define the equations\n",
    "    u = x[0] * (3 - a * x[0] - b * x[1])\n",
    "    v = x[1] * (2 - x[0] - x[1])\n",
    "    return np.array([u, v])"
   ]
  },
  {
   "cell_type": "code",
   "execution_count": null,
   "id": "fc3983c5-42fc-4a80-ae0e-15985640626f",
   "metadata": {},
   "outputs": [],
   "source": [
    "import numpy as np\n",
    "import matplotlib.pyplot as plt\n",
    "\n",
    "def draw_trajectories(f, dt=0.1, final_time=1, points=[[0, 0], [1, 1], [2, 2]]):\n",
    "    # Convert points to a NumPy array\n",
    "    x0_array = np.array(points).reshape(-1, 2)\n",
    "\n",
    "    # Calculate the trajectories\n",
    "    trajectories = vectorized_runge_kutta(f, x0_array, dt, final_time)\n",
    "\n",
    "    # Create a plot\n",
    "    fig, ax = plt.subplots()\n",
    "    cmap = plt.get_cmap(\"viridis\")\n",
    "\n",
    "    # Iterate through the trajectories\n",
    "    for i in range(len(x0_array)):\n",
    "        x_traj = trajectories[i][:, 0]\n",
    "        y_traj = trajectories[i][:, 1]\n",
    "        color = cmap(i / len(x0_array))\n",
    "        \n",
    "        # Plot the trajectory\n",
    "        ax.plot(x_traj, y_traj, color=color, linewidth=1)\n",
    "\n",
    "        # I need to do this because if I just take the middle point some trajectory are really fast and thus I get the arrow at the end\n",
    "        # ---------------------\n",
    "        \n",
    "        # Calculate the cumulative distance along the trajectory\n",
    "        distances = np.sqrt(np.diff(x_traj)**2 + np.diff(y_traj)**2)\n",
    "        cumulative_distances = np.cumsum(distances)\n",
    "        \n",
    "        # Find the index where the distance is half of the total distance\n",
    "        middle_index = np.argmax(cumulative_distances >= cumulative_distances[-1] / 2)\n",
    "\n",
    "        # ---------------------\n",
    "\n",
    "        # Calculate the arrow direction using the middle two points\n",
    "        dx = x_traj[middle_index] - x_traj[middle_index - 1]\n",
    "        dy = y_traj[middle_index] - y_traj[middle_index - 1]\n",
    "\n",
    "        # Add a smaller arrow at the middle of the trajectory\n",
    "        ax.arrow(x_traj[middle_index - 1], y_traj[middle_index - 1], dx, dy, head_width=0.04, head_length=0.08, fc=color, ec=color)\n",
    "\n",
    "    # Set labels, title, and axis limits\n",
    "    ax.set_xlabel(\"x\")\n",
    "    ax.set_ylabel(\"y\")\n",
    "    ax.set_xlim(0, 3.5)\n",
    "    ax.set_ylim(0, 3.5)\n",
    "    ax.set_title(\"Trajectories of the Differential Equation Solution\")\n",
    "\n",
    "    # Set the background color and remove unnecessary spines\n",
    "    fig.patch.set_facecolor(\"white\")\n",
    "    ax.spines[\"top\"].set_visible(False)\n",
    "    ax.spines[\"right\"].set_visible(False)\n",
    "\n",
    "    # Add grid lines\n",
    "    ax.grid(True, linestyle=\"--\", color=\"gray\", alpha=0.5)\n",
    "\n",
    "    # Show the plot\n",
    "    plt.show()"
   ]
  },
  {
   "cell_type": "code",
   "execution_count": null,
   "id": "71cdf359-2878-4a54-a785-c636515d8f1c",
   "metadata": {},
   "outputs": [],
   "source": [
    "# A few interesting starting points\n",
    "starting_points = [[0.01, 0.01], [0.3, 0.25], [0.01, 0.05], [0.15, 0.5], [0.05, 0.5], \n",
    "                   [0.1, 1.25], [0.1, 3], [0.8,3], [1.5, 3], [2,2.75], [2.5,2.5], \n",
    "                   [2.75, 2], [3,1.5], [2.75, 1], [3,0.5], [3.25, 0.25]]\n",
    "\n",
    "draw_trajectories(f=f, dt = 0.01, final_time = 15, points = starting_points)"
   ]
  },
  {
   "cell_type": "markdown",
   "id": "15c92f07-fea5-4c56-b06a-89d15bab5acf",
   "metadata": {},
   "source": [
    "### Try out the varius methods"
   ]
  },
  {
   "cell_type": "code",
   "execution_count": null,
   "id": "01d565ab-55fa-4082-b550-41423fac5bd5",
   "metadata": {},
   "outputs": [],
   "source": [
    "# Initialize an array fo yr the initial contions\n",
    "x0 = np.array([0.1, 0.1])\n",
    "# Delta time\n",
    "dt = 0.5\n",
    "# Final time\n",
    "final_time = 10\n",
    "\n",
    "# The number of step is automatically computed the function is also inside eqdiff_solver\n",
    "x = plot_solution(f, x0, dt=dt, final_time=final_time, rk_only= False)"
   ]
  },
  {
   "cell_type": "markdown",
   "id": "249693fb-c356-442a-82e2-d0d309f26c0d",
   "metadata": {
    "tags": []
   },
   "source": [
    "## Analyzing the manifold trajectories"
   ]
  },
  {
   "cell_type": "code",
   "execution_count": null,
   "id": "08d7b9bd-6b29-4233-82c8-e789983815d5",
   "metadata": {},
   "outputs": [],
   "source": [
    "# The number of step is automatically computed the function is also inside eqdiff_solver\n",
    "phase_diagram_trajectories(f, dt=0.001, final_time=10, num=20, start=-0, end=3)\n",
    "\n",
    "# Close all open figures\n",
    "plt.close('all')"
   ]
  },
  {
   "cell_type": "markdown",
   "id": "13198e01-9a67-45a7-8dc3-b84669c35ce6",
   "metadata": {
    "tags": []
   },
   "source": [
    "## Analyzing the non linear extension of the manifold"
   ]
  },
  {
   "cell_type": "code",
   "execution_count": null,
   "id": "d1b9da0e-a9a5-4677-a4f0-407c16676bb3",
   "metadata": {},
   "outputs": [],
   "source": [
    "# Delta time\n",
    "dt = 0.01\n",
    "\n",
    "# Final time\n",
    "final_time = 10\n",
    "\n",
    "# a and b values\n",
    "list_ab = [(1, 2), (2, 1), (1, 3), (3, 1)]\n",
    "\n",
    "# Phase diagram forward in time\n",
    "multiple_phase_diagram_trajectories(f, list_ab, dt=dt, final_time=final_time, num=30, start=-4, end=4)\n",
    "\n",
    "# Phase diagram reversing time\n",
    "multiple_phase_diagram_trajectories(f, list_ab, dt=-dt, final_time=-final_time, num=30, start=-4, end=4)\n",
    "\n",
    "# Close all open figures\n",
    "plt.close('all')"
   ]
  }
 ],
 "metadata": {
  "kernelspec": {
   "display_name": "Python 3 (ipykernel)",
   "language": "python",
   "name": "python3"
  },
  "language_info": {
   "codemirror_mode": {
    "name": "ipython",
    "version": 3
   },
   "file_extension": ".py",
   "mimetype": "text/x-python",
   "name": "python",
   "nbconvert_exporter": "python",
   "pygments_lexer": "ipython3",
   "version": "3.11.3"
  }
 },
 "nbformat": 4,
 "nbformat_minor": 5
}
